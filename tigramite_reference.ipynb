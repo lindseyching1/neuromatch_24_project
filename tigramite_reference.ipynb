import tigramite
from tigramite import data_processing as pp
from tigramite.toymodels import structural_causal_processes as toys
from tigramite import plotting as tp
from tigramite.pcmci import PCMCI
from tigramite.lpcmci import LPCMCI
from tigramite.independence_tests import ParCorr, GPDC, CMIknn, CMIsymb
from tigramite.models import LinearMediation, Prediction

#put data in numerical time series format here. ideally 
data():
    #put data in numerical time series format here. ideally it the columns will be labeled as well 
    dat = pd.DataFrame(dat)#.astype(np.float64)
    dat = np.array(dat)
    N = dat.shape[1]
    var_names = [r'$X^{%d}$' % j for j in range(N)]
    dat = pp.DataFrame(dat,var_names=var_names)
    
    parcorr = ParCorr(significance='analytic')
    
    pcmci = PCMCI(dataframe=dat, 
              cond_ind_test=parcorr,
              verbosity=1)
    print("asdf")
    correlations = pcmci.run_bivci(tau_max=20, val_only=True)['val_matrix']
    setup_args = {'var_names':var_names,
              'figsize':(10, 6),
              'x_base':5,
              'y_base':.5}
    
    lag_func_matrix = tp.plot_lagfuncs(val_matrix=correlations, 
                                   setup_args=setup_args)
    
    lpcmci = LPCMCI(dataframe=dat, 
                cond_ind_test=parcorr,
                verbosity=1)

    # Define the analysis parameters.
    tau_max = 5
    pc_alpha = 0.01
    
    # Run LPCMCI
    results = lpcmci.run_lpcmci(tau_max=tau_max,
                                pc_alpha=pc_alpha)
    #lpcmi.print_significant_links()
    #plt.plot()
    #plt.plot(s)
    plt.show()
    # Plot time series graph
    tp.plot_time_series_graph(
        figsize=(8, 8),
        node_size=0.05,
        val_matrix=results['val_matrix'],
        graph=results['graph'],
        var_names=var_names,
        link_colorbar_label='MCI',
        ); 
    
data()
