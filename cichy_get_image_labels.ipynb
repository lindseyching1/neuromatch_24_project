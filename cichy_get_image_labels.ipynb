{
 "cells": [
  {
   "cell_type": "markdown",
   "metadata": {},
   "source": [
    "# Get Image Labels"
   ]
  },
  {
   "cell_type": "code",
   "execution_count": 3,
   "metadata": {},
   "outputs": [],
   "source": [
    "import scipy\n",
    "import scipy.io\n",
    "from scipy.io import loadmat\n",
    "import numpy as np \n",
    "import pandas as pd\n",
    "from collections import Counter\n",
    "import h5py\n",
    "import matplotlib.pyplot as plt\n",
    "import seaborn as sns"
   ]
  },
  {
   "cell_type": "markdown",
   "metadata": {},
   "source": [
    "Link to download visual_stimuli.mat: http://wednesday.csail.mit.edu/MEG1_MEG_Clear_Data/visual_stimuli.mat"
   ]
  },
  {
   "cell_type": "code",
   "execution_count": 4,
   "metadata": {},
   "outputs": [],
   "source": [
    "def get_stim_details(path_to_file):\n",
    "  \"\"\"\n",
    "  acquire category names and binary features describing the Cichy images\n",
    "\n",
    "  returns: stim_details (dict containing 5 keys: category (str), and four binary features (animate, human, natural, face)). \n",
    "                          each key holds an array giving the information for all categories\n",
    "  \"\"\"\n",
    "  stim_dat = loadmat(path_to_file)['visual_stimuli']\n",
    "  fields = ['category', 'animate', 'human', 'natural', 'face']\n",
    "  stim_details = {field:[] for field in fields}\n",
    "  for ii in range(92):\n",
    "    for jj, field in enumerate(fields):\n",
    "      stim_details[field].append(stim_dat[0,ii][jj][0])\n",
    "  for field in fields[1:]:\n",
    "    stim_details[field] = np.array(stim_details[field]).squeeze()\n",
    "  return stim_details\n"
   ]
  },
  {
   "cell_type": "code",
   "execution_count": 38,
   "metadata": {},
   "outputs": [],
   "source": [
    "# replace your path to visual_stimuli.mat\n",
    "stim_details = get_stim_details(path_to_file = '/Users/lindsey.ching/Downloads/Cichy_92_Image_Set_ROI_RDMs/92_Image_Set/visual_stimuli.mat')"
   ]
  },
  {
   "cell_type": "code",
   "execution_count": 34,
   "metadata": {},
   "outputs": [],
   "source": [
    "stim_details['category'] = [str(cat) for cat in stim_details['category']]"
   ]
  },
  {
   "cell_type": "code",
   "execution_count": 35,
   "metadata": {},
   "outputs": [
    {
     "data": {
      "text/plain": [
       "dict_keys(['category', 'animate', 'human', 'natural', 'face'])"
      ]
     },
     "execution_count": 35,
     "metadata": {},
     "output_type": "execute_result"
    }
   ],
   "source": [
    "stim_details.keys()"
   ]
  },
  {
   "cell_type": "code",
   "execution_count": 37,
   "metadata": {},
   "outputs": [
    {
     "data": {
      "text/plain": [
       "Counter({'natural inanimate': 23,\n",
       "         'artificial inanimate': 21,\n",
       "         'human bodypart': 12,\n",
       "         'human face': 12,\n",
       "         'nonhuman bodypart': 12,\n",
       "         'nonhuman face': 12})"
      ]
     },
     "execution_count": 37,
     "metadata": {},
     "output_type": "execute_result"
    }
   ],
   "source": [
    "Counter(stim_details['category'])"
   ]
  }
 ],
 "metadata": {
  "kernelspec": {
   "display_name": "nma_env",
   "language": "python",
   "name": "python3"
  },
  "language_info": {
   "codemirror_mode": {
    "name": "ipython",
    "version": 3
   },
   "file_extension": ".py",
   "mimetype": "text/x-python",
   "name": "python",
   "nbconvert_exporter": "python",
   "pygments_lexer": "ipython3",
   "version": "3.11.8"
  },
  "orig_nbformat": 4
 },
 "nbformat": 4,
 "nbformat_minor": 2
}
