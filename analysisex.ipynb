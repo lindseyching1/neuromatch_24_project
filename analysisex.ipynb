{
 "cells": [
  {
   "cell_type": "code",
   "execution_count": null,
   "metadata": {},
   "outputs": [],
   "source": []
  },
  {
   "cell_type": "markdown",
   "metadata": {},
   "source": [
    "this analysis script is for regieme change. This tells you when the behavior of the dataset systamtically shifts. "
   ]
  },
  {
   "cell_type": "code",
   "execution_count": null,
   "metadata": {},
   "outputs": [],
   "source": [
    "import matplotlib.pyplot as plt\n",
    "import ruptures as rpt\n",
    "import numpy as np\n",
    "import scipy\n",
    "\n",
    "# generate signal\n",
    "#n_samples, dim, sigma = 1000, 3, 4\n",
    "#n_bkps = 4  # number of breakpoints\n",
    "#signal, bkps = rpt.pw_constant(n_samples, dim, n_bkps, noise_std=sigma)\n",
    "data = []\n",
    "n=2000#540#50000#540#50000\n",
    "dim=1\n",
    "sigma=4.7#7.43\n",
    "#sigma = 7.65\n",
    "algo = rpt.Pelt(model=\"l2\").fit(ay)\n",
    "result = algo.predict(pen=np.log(n) * dim * sigma**2)\n",
    "\n",
    "# display\n",
    "rpt.display(ay, result)"
   ]
  },
  {
   "cell_type": "markdown",
   "metadata": {},
   "source": [
    "gives a probability of regieme change at any given time"
   ]
  },
  {
   "cell_type": "code",
   "execution_count": null,
   "metadata": {},
   "outputs": [],
   "source": [
    "mod_hamilton = sm.tsa.MarkovAutoregression(data, k_regimes=2, order=4, switching_ar=False,switching_trend=True,switching_variance=True)\n",
    "res_hamilton = mod_hamilton.fit()\n",
    "res_hamilton.smoothed_marginal_probabilities[1]#.plot(title='Probability of being in the high regime', figsize=(12,3));\n",
    "rr = res_hamilton.smoothed_marginal_probabilities[1]"
   ]
  },
  {
   "cell_type": "code",
   "execution_count": null,
   "metadata": {},
   "outputs": [],
   "source": [
    "#spectral distribution function. whcih gives\n",
    "\n",
    "dd = np.ravel(by)#data_to_predict)\n",
    "p,f = signal.periodogram(ay)\n",
    "a = integrate.cumtrapz(f,np.sqrt(p),0)\n",
    "plt.plot(a)"
   ]
  },
  {
   "cell_type": "markdown",
   "metadata": {},
   "source": [
    "dfa allows us to determine whether there is long term dependence"
   ]
  },
  {
   "cell_type": "code",
   "execution_count": null,
   "metadata": {},
   "outputs": [],
   "source": [
    "import nolds\n",
    "import numpy as np\n",
    "\n",
    "rwalk = np.cumsum(np.random.random(1000))\n",
    "h = nolds.dfa(rwalk)"
   ]
  }
 ],
 "metadata": {
  "language_info": {
   "name": "python"
  }
 },
 "nbformat": 4,
 "nbformat_minor": 2
}
